{
  "nbformat": 4,
  "nbformat_minor": 0,
  "metadata": {
    "colab": {
      "name": "exercises_1.ipynb",
      "provenance": [],
      "collapsed_sections": [],
      "include_colab_link": true
    },
    "kernelspec": {
      "name": "python3",
      "display_name": "Python 3"
    }
  },
  "cells": [
    {
      "cell_type": "markdown",
      "metadata": {
        "id": "view-in-github",
        "colab_type": "text"
      },
      "source": [
        "<a href=\"https://colab.research.google.com/github/Choi-Laboratory/measurement_engineering_exercises/blob/remove_lenna_imgs/exercises_1.ipynb\" target=\"_parent\"><img src=\"https://colab.research.google.com/assets/colab-badge.svg\" alt=\"Open In Colab\"/></a>"
      ]
    },
    {
      "cell_type": "markdown",
      "metadata": {
        "id": "2-7-NhDEC1ga",
        "colab_type": "text"
      },
      "source": [
        "# 課題1: 輝度値ヒストグラムの作成\n",
        "\n",
        "画像のコントラストに関する処理を行う際に、その画像の輝度値の分布を知る必要があります。  \n",
        "輝度値の分布を補正することで、画像を明暗をできたり、分布の山と山の間の\n",
        "谷の部分を閾値とすることで、画像を二値化することもできます。  \n",
        "今回は、画像処理の基本である、輝度値のヒストグラムの作成に挑戦してもらいます。  \n",
        "\n",
        "\n",
        " ## 課題内容 : \"Mandrill_gray.png\"のヒストグラムの作成\n",
        "- 輝度の階級値は0~255を32段階でカウントしてください（階級の幅は8）。  \n",
        "- 頻度の表示は100個ごとに*を表示してください。  \n",
        "- 画像の読み込みの部分の処理はこちらで用意しているので、それを使ってください。    \n",
        "\n",
        "\n",
        "## 提出物(以下の2つをWordに貼り付けて提出してください。)：\n",
        "- プログラムのソースコード\n",
        "- 実行結果  \n",
        "  \n",
        "\n",
        "\n",
        "\n",
        "\n"
      ]
    },
    {
      "cell_type": "markdown",
      "metadata": {
        "id": "eWjVDgZH1LZh",
        "colab_type": "text"
      },
      "source": [
        "\n",
        "![](https://raw.githubusercontent.com/Choi-Laboratory/measurement_engineering_exercises/remove_lenna_imgs/images/Cat_gray.png)\n",
        "  \n",
        "一例として\"Cat_gray.png\"の輝度値のヒストグラムは以下のようになります。 \n",
        "\n",
        "```\n",
        "   range      freq\n",
        "000 - 007 [ 1372 ]: *************\n",
        "008 - 015 [ 2631 ]: **************************\n",
        "016 - 023 [ 2536 ]: *************************\n",
        "024 - 031 [ 2291 ]: **********************\n",
        "032 - 039 [ 2296 ]: **********************\n",
        "040 - 047 [ 2074 ]: ********************\n",
        "048 - 055 [ 1999 ]: *******************\n",
        "056 - 063 [ 2116 ]: *********************\n",
        "064 - 071 [ 2199 ]: *********************\n",
        "072 - 079 [ 2096 ]: ********************\n",
        "080 - 087 [ 2241 ]: **********************\n",
        "088 - 095 [ 2462 ]: ************************\n",
        "096 - 103 [ 2712 ]: ***************************\n",
        "104 - 111 [ 2918 ]: *****************************\n",
        "112 - 119 [ 3273 ]: ********************************\n",
        "120 - 127 [ 3368 ]: *********************************\n",
        "128 - 135 [ 3204 ]: ********************************\n",
        "136 - 143 [ 2928 ]: *****************************\n",
        "144 - 151 [ 2122 ]: *********************\n",
        "152 - 159 [ 1306 ]: *************\n",
        "160 - 167 [ 0780 ]: *******\n",
        "168 - 175 [ 0664 ]: ******\n",
        "176 - 183 [ 0697 ]: ******\n",
        "184 - 191 [ 0982 ]: *********\n",
        "192 - 199 [ 1850 ]: ******************\n",
        "200 - 207 [ 4043 ]: ****************************************\n",
        "208 - 215 [ 6228 ]: **************************************************************\n",
        "216 - 223 [ 2140 ]: *********************\n",
        "224 - 231 [ 0008 ]: \n",
        "232 - 239 [ 0000 ]: \n",
        "240 - 247 [ 0000 ]: \n",
        "248 - 255 [ 0000 ]: \n",
        "```"
      ]
    },
    {
      "cell_type": "markdown",
      "metadata": {
        "id": "MPfNUNUQuY0y",
        "colab_type": "text"
      },
      "source": [
        "---\n",
        "# プログラムの作成\n",
        "3つのセルがあります。  \n",
        "上から順にプログラムを実行してください。  \n",
        "最初の2つのセルは画像のアップロードと読み込みの処理なので、書き換える必要はありません。  \n",
        "3つ目のセルにプログラムを書いて、画像のヒストグラムを作成してください。"
      ]
    },
    {
      "cell_type": "code",
      "metadata": {
        "id": "kqx5DtKMGTsY",
        "colab_type": "code",
        "colab": {}
      },
      "source": [
        "\"\"\" 1/3 ※書き換える必要なし\n",
        "＜配布した画像をGoogle　Colabにアップロードする処理＞\n",
        "セルを実行したら、ファイル選択ができるようになります。\n",
        "'Mandrill_gray.png'を選択してください。\n",
        "\"\"\"\n",
        "\n",
        "from google.colab import files #画像読み込み用の関数を使えるようにする\n",
        "uploaded = files.upload() #ファイルのアップロード"
      ],
      "execution_count": null,
      "outputs": []
    },
    {
      "cell_type": "markdown",
      "metadata": {
        "id": "yP1IW6nfz3p_",
        "colab_type": "text"
      },
      "source": [
        "以下の文章が出力されたら、画像のアップロードが完了です。\n",
        "```\n",
        "Mandrill_gray.png(image/png) - 86309 bytes, last modified: 2020/?/? - 100% done\n",
        "Saving Mandrill_gray.png to Mandrill_gray.png\n",
        "```"
      ]
    },
    {
      "cell_type": "code",
      "metadata": {
        "id": "PgKLwQzuHJJg",
        "colab_type": "code",
        "colab": {}
      },
      "source": [
        "\"\"\" 2/3　※書き換える必要なし\n",
        "＜画像を読み込む処理＞\n",
        "先ほどアップロードした画像ファイルを読み込みます。\n",
        "変数'gray_img'の中に、画像データが入っています（サイズは256×256）。\n",
        "\"\"\"\n",
        "\n",
        "import cv2 #画像処理の基本的な処理をまとめた関数群を使えるようにする\n",
        "img_file_name = \"Mandrill_gray.png\" #上のセルでアップロードした画像ファイルの名前\n",
        "#img_file_name = \"Cat_gray.png\" #上のセルでアップロードした画像ファイルの名前\n",
        "gray_img = cv2.imread(img_file_name, cv2.IMREAD_GRAYSCALE) #画像の読み込み\n",
        "print(type(gray_img)) #→<class 'numpy.ndarray'>\n",
        "print(gray_img.shape) #→(256, 256)"
      ],
      "execution_count": null,
      "outputs": []
    },
    {
      "cell_type": "markdown",
      "metadata": {
        "id": "iM7L5LM72gzS",
        "colab_type": "text"
      },
      "source": [
        "以下の文章が出力されたら、画像の読み込みが無事にできています。\n",
        "\n",
        "```\n",
        "<class 'numpy.ndarray'>\n",
        "(256, 256)\n",
        "```\n",
        "\n",
        "これで諸々の準備ができました。  \n",
        "ここからは皆さんがヒストグラムを作成するプログラムを書いてみてください。  \n",
        "\n",
        "※Google Colabの仕様上、時間が立つとアップロードした画像データやメモリのデータがリセットされます。  \n",
        "前のセルの実行から30分以上時間が空いてしまった場合は、1つ目のセルから順に実行し直してください。\n"
      ]
    },
    {
      "cell_type": "code",
      "metadata": {
        "id": "bh1Nq3fk28Ie",
        "colab_type": "code",
        "colab": {}
      },
      "source": [
        "\"\"\" 3/3　※各自でプログラムを作成してください。\n",
        "＜ヒストグラムの作成＞\n",
        "gray_imgは256×256の２次元配列になっています。\n",
        "\n",
        "\"\"\"\n",
        "\n",
        "hist = [0]*32\n"
      ],
      "execution_count": null,
      "outputs": []
    }
  ]
}