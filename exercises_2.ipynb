{
  "nbformat": 4,
  "nbformat_minor": 0,
  "metadata": {
    "colab": {
      "name": "exercises_2.ipynb",
      "provenance": [],
      "collapsed_sections": [],
      "include_colab_link": true
    },
    "kernelspec": {
      "name": "python3",
      "display_name": "Python 3"
    }
  },
  "cells": [
    {
      "cell_type": "markdown",
      "metadata": {
        "id": "view-in-github",
        "colab_type": "text"
      },
      "source": [
        "<a href=\"https://colab.research.google.com/github/Choi-Laboratory/measurement_engineering_exercises/blob/master/exercises_2.ipynb\" target=\"_parent\"><img src=\"https://colab.research.google.com/assets/colab-badge.svg\" alt=\"Open In Colab\"/></a>"
      ]
    },
    {
      "cell_type": "markdown",
      "metadata": {
        "id": "HtEDpWmXsHjx",
        "colab_type": "text"
      },
      "source": [
        "# 課題2: ラプラシアンマスク\n",
        "\n",
        "画像の輪郭を抽出する手法の一つに**ラプラシアンマスク**というものがあります。  \n",
        "着目画素の8近傍（あるいはそれ以上）の領域において、以下に示すような係数を掛けて足し合わせて、画素値を更新します。  \n",
        "\n",
        "| | | |\n",
        "| :---: | :---: | :---: |\n",
        "|  -1 |  -1 | -1 |\n",
        "|  -1 |  8  | -1 |\n",
        "|  -1 |  -1 | -1 |\n",
        "\n",
        "![](https://raw.githubusercontent.com/Choi-Laboratory/measurement_engineering_exercises/master/images/laplacian.jpg)\n",
        "\n",
        "例えば、次のような画素配列において、  \n",
        "\n",
        "|  |  |  |  \n",
        "| :---: | :---: | :---: |\n",
        "| 36 | 199 | 196 | \n",
        "| 129 | ↓<br>156 | 122 |\n",
        "| 199 | 223 | 64 |\n",
        "\n",
        "\n",
        "中心の画素(156)に8近傍のラプラシアンマスクを適用すると、  \n",
        "\n",
        "(新しい画素値) = 36 × (-1) + 199 × (-1) + 196 × (-1)   \n",
        "　　　　　　　+ 129 × (-1) + 156 × 8 + 122 × (-1)   \n",
        "　　　　　　　+ 199 × (-1) + 223 × (-1) + 64 × (-1)   \n",
        "　　　　　　　= **80**\n",
        "\n",
        "画素値は80になります。\n",
        "\n",
        "|  |  |  |  \n",
        "| :---: | :---: | :---: |\n",
        "| 36 | 199 | 196 | \n",
        "| 129 | **80** | 122 |\n",
        "| 199 | 223 | 64 |\n",
        "\n",
        "\n",
        "しかしながら、上のような配列の場合、中心以外の画素は配列の縁にあるので、8近傍の処理を施すことができません。  \n",
        "そこで、入力画像に対して、処理を行う前に画像配列の周囲を0(ゼロ)で埋める方法があります。  \n",
        "この手法を**ゼロパディング**と呼びます。  \n",
        "以下のような配列にゼロパディングを行うと、\n",
        "\n",
        "|  |  |  |  |\n",
        "| :---: | :---: | :---: | :---: |\n",
        "| A | B | C | D |\n",
        "| E | F | G | H |\n",
        "| I | J | K | L |\n",
        "| M | N | O | P |\n",
        "\n",
        "\n",
        "次のようになります。  \n",
        "\n",
        "|  |  |  |  |  |  |\n",
        "| :---: | :---: | :---: | :---: | :---: | :---: |\n",
        "| **0** | **0** | **0** | **0** | **0** | **0** |\n",
        "| **0** | A | B | C | D | **0** |\n",
        "| **0** | E | F | G | H | **0** |\n",
        "| **0** | I | J | K | L | **0** |\n",
        "| **0** | M | N | O | P | **0** |\n",
        "| **0** | **0** | **0** | **0** | **0** | **0** |\n",
        "\n",
        "今回の課題では、ゼロパディングの処理を行う必要はありませんが、知識として知っておいてください。  \n",
        "(余裕がある人は挑戦してみてください。)\n"
      ]
    },
    {
      "cell_type": "markdown",
      "metadata": {
        "id": "EXou4KVQighV",
        "colab_type": "text"
      },
      "source": [
        "### 課題の説明\n",
        "\"House_gray.png\"に8近傍のラプラシアンマスクを適用し、その出力結果とプログラムのソースコードを提出してください。  \n",
        "提出方法は、前回と同様で、出力画像とソースコードをWordに載せて提出してください。\n",
        "\n",
        "\n",
        "ラプラシアンマスクを適用した後の画素値が0~255の範囲を超えた場合、  \n",
        "0より小さいならば0、255より大きいならば255にしてください。\n",
        "\n",
        "前述しましたが、8近傍ラプラシアンマスクは、配列の縁にあたる部分の画素に対して、マスク処理することができません。  \n",
        "従って、縁の部分は画素値を0にして処理を進めてください。  \n",
        "ゼロパディング処理を施せる人は、挑戦してみてください。\n",
        "\n",
        "例として、\"Lenna_gray.png\"に対して、ラプラシアンマスクを施した結果を載せておきます。  \n",
        "\n",
        "\n",
        "![](https://raw.githubusercontent.com/Choi-Laboratory/measurement_engineering_exercises/master/images/Lenna_LaplacianMask_result.png)\n",
        "\n",
        "\n",
        "画像の輪郭部分がくっきりとしていることが、見て分かると思います。\n",
        "\n",
        "\n",
        "\n"
      ]
    },
    {
      "cell_type": "markdown",
      "metadata": {
        "id": "m17XD90wia-K",
        "colab_type": "text"
      },
      "source": [
        ""
      ]
    },
    {
      "cell_type": "code",
      "metadata": {
        "id": "XT3Voemjs19i",
        "colab_type": "code",
        "colab": {
          "resources": {
            "http://localhost:8080/nbextensions/google.colab/files.js": {
              "data": "Ly8gQ29weXJpZ2h0IDIwMTcgR29vZ2xlIExMQwovLwovLyBMaWNlbnNlZCB1bmRlciB0aGUgQXBhY2hlIExpY2Vuc2UsIFZlcnNpb24gMi4wICh0aGUgIkxpY2Vuc2UiKTsKLy8geW91IG1heSBub3QgdXNlIHRoaXMgZmlsZSBleGNlcHQgaW4gY29tcGxpYW5jZSB3aXRoIHRoZSBMaWNlbnNlLgovLyBZb3UgbWF5IG9idGFpbiBhIGNvcHkgb2YgdGhlIExpY2Vuc2UgYXQKLy8KLy8gICAgICBodHRwOi8vd3d3LmFwYWNoZS5vcmcvbGljZW5zZXMvTElDRU5TRS0yLjAKLy8KLy8gVW5sZXNzIHJlcXVpcmVkIGJ5IGFwcGxpY2FibGUgbGF3IG9yIGFncmVlZCB0byBpbiB3cml0aW5nLCBzb2Z0d2FyZQovLyBkaXN0cmlidXRlZCB1bmRlciB0aGUgTGljZW5zZSBpcyBkaXN0cmlidXRlZCBvbiBhbiAiQVMgSVMiIEJBU0lTLAovLyBXSVRIT1VUIFdBUlJBTlRJRVMgT1IgQ09ORElUSU9OUyBPRiBBTlkgS0lORCwgZWl0aGVyIGV4cHJlc3Mgb3IgaW1wbGllZC4KLy8gU2VlIHRoZSBMaWNlbnNlIGZvciB0aGUgc3BlY2lmaWMgbGFuZ3VhZ2UgZ292ZXJuaW5nIHBlcm1pc3Npb25zIGFuZAovLyBsaW1pdGF0aW9ucyB1bmRlciB0aGUgTGljZW5zZS4KCi8qKgogKiBAZmlsZW92ZXJ2aWV3IEhlbHBlcnMgZm9yIGdvb2dsZS5jb2xhYiBQeXRob24gbW9kdWxlLgogKi8KKGZ1bmN0aW9uKHNjb3BlKSB7CmZ1bmN0aW9uIHNwYW4odGV4dCwgc3R5bGVBdHRyaWJ1dGVzID0ge30pIHsKICBjb25zdCBlbGVtZW50ID0gZG9jdW1lbnQuY3JlYXRlRWxlbWVudCgnc3BhbicpOwogIGVsZW1lbnQudGV4dENvbnRlbnQgPSB0ZXh0OwogIGZvciAoY29uc3Qga2V5IG9mIE9iamVjdC5rZXlzKHN0eWxlQXR0cmlidXRlcykpIHsKICAgIGVsZW1lbnQuc3R5bGVba2V5XSA9IHN0eWxlQXR0cmlidXRlc1trZXldOwogIH0KICByZXR1cm4gZWxlbWVudDsKfQoKLy8gTWF4IG51bWJlciBvZiBieXRlcyB3aGljaCB3aWxsIGJlIHVwbG9hZGVkIGF0IGEgdGltZS4KY29uc3QgTUFYX1BBWUxPQURfU0laRSA9IDEwMCAqIDEwMjQ7CgpmdW5jdGlvbiBfdXBsb2FkRmlsZXMoaW5wdXRJZCwgb3V0cHV0SWQpIHsKICBjb25zdCBzdGVwcyA9IHVwbG9hZEZpbGVzU3RlcChpbnB1dElkLCBvdXRwdXRJZCk7CiAgY29uc3Qgb3V0cHV0RWxlbWVudCA9IGRvY3VtZW50LmdldEVsZW1lbnRCeUlkKG91dHB1dElkKTsKICAvLyBDYWNoZSBzdGVwcyBvbiB0aGUgb3V0cHV0RWxlbWVudCB0byBtYWtlIGl0IGF2YWlsYWJsZSBmb3IgdGhlIG5leHQgY2FsbAogIC8vIHRvIHVwbG9hZEZpbGVzQ29udGludWUgZnJvbSBQeXRob24uCiAgb3V0cHV0RWxlbWVudC5zdGVwcyA9IHN0ZXBzOwoKICByZXR1cm4gX3VwbG9hZEZpbGVzQ29udGludWUob3V0cHV0SWQpOwp9CgovLyBUaGlzIGlzIHJvdWdobHkgYW4gYXN5bmMgZ2VuZXJhdG9yIChub3Qgc3VwcG9ydGVkIGluIHRoZSBicm93c2VyIHlldCksCi8vIHdoZXJlIHRoZXJlIGFyZSBtdWx0aXBsZSBhc3luY2hyb25vdXMgc3RlcHMgYW5kIHRoZSBQeXRob24gc2lkZSBpcyBnb2luZwovLyB0byBwb2xsIGZvciBjb21wbGV0aW9uIG9mIGVhY2ggc3RlcC4KLy8gVGhpcyB1c2VzIGEgUHJvbWlzZSB0byBibG9jayB0aGUgcHl0aG9uIHNpZGUgb24gY29tcGxldGlvbiBvZiBlYWNoIHN0ZXAsCi8vIHRoZW4gcGFzc2VzIHRoZSByZXN1bHQgb2YgdGhlIHByZXZpb3VzIHN0ZXAgYXMgdGhlIGlucHV0IHRvIHRoZSBuZXh0IHN0ZXAuCmZ1bmN0aW9uIF91cGxvYWRGaWxlc0NvbnRpbnVlKG91dHB1dElkKSB7CiAgY29uc3Qgb3V0cHV0RWxlbWVudCA9IGRvY3VtZW50LmdldEVsZW1lbnRCeUlkKG91dHB1dElkKTsKICBjb25zdCBzdGVwcyA9IG91dHB1dEVsZW1lbnQuc3RlcHM7CgogIGNvbnN0IG5leHQgPSBzdGVwcy5uZXh0KG91dHB1dEVsZW1lbnQubGFzdFByb21pc2VWYWx1ZSk7CiAgcmV0dXJuIFByb21pc2UucmVzb2x2ZShuZXh0LnZhbHVlLnByb21pc2UpLnRoZW4oKHZhbHVlKSA9PiB7CiAgICAvLyBDYWNoZSB0aGUgbGFzdCBwcm9taXNlIHZhbHVlIHRvIG1ha2UgaXQgYXZhaWxhYmxlIHRvIHRoZSBuZXh0CiAgICAvLyBzdGVwIG9mIHRoZSBnZW5lcmF0b3IuCiAgICBvdXRwdXRFbGVtZW50Lmxhc3RQcm9taXNlVmFsdWUgPSB2YWx1ZTsKICAgIHJldHVybiBuZXh0LnZhbHVlLnJlc3BvbnNlOwogIH0pOwp9CgovKioKICogR2VuZXJhdG9yIGZ1bmN0aW9uIHdoaWNoIGlzIGNhbGxlZCBiZXR3ZWVuIGVhY2ggYXN5bmMgc3RlcCBvZiB0aGUgdXBsb2FkCiAqIHByb2Nlc3MuCiAqIEBwYXJhbSB7c3RyaW5nfSBpbnB1dElkIEVsZW1lbnQgSUQgb2YgdGhlIGlucHV0IGZpbGUgcGlja2VyIGVsZW1lbnQuCiAqIEBwYXJhbSB7c3RyaW5nfSBvdXRwdXRJZCBFbGVtZW50IElEIG9mIHRoZSBvdXRwdXQgZGlzcGxheS4KICogQHJldHVybiB7IUl0ZXJhYmxlPCFPYmplY3Q+fSBJdGVyYWJsZSBvZiBuZXh0IHN0ZXBzLgogKi8KZnVuY3Rpb24qIHVwbG9hZEZpbGVzU3RlcChpbnB1dElkLCBvdXRwdXRJZCkgewogIGNvbnN0IGlucHV0RWxlbWVudCA9IGRvY3VtZW50LmdldEVsZW1lbnRCeUlkKGlucHV0SWQpOwogIGlucHV0RWxlbWVudC5kaXNhYmxlZCA9IGZhbHNlOwoKICBjb25zdCBvdXRwdXRFbGVtZW50ID0gZG9jdW1lbnQuZ2V0RWxlbWVudEJ5SWQob3V0cHV0SWQpOwogIG91dHB1dEVsZW1lbnQuaW5uZXJIVE1MID0gJyc7CgogIGNvbnN0IHBpY2tlZFByb21pc2UgPSBuZXcgUHJvbWlzZSgocmVzb2x2ZSkgPT4gewogICAgaW5wdXRFbGVtZW50LmFkZEV2ZW50TGlzdGVuZXIoJ2NoYW5nZScsIChlKSA9PiB7CiAgICAgIHJlc29sdmUoZS50YXJnZXQuZmlsZXMpOwogICAgfSk7CiAgfSk7CgogIGNvbnN0IGNhbmNlbCA9IGRvY3VtZW50LmNyZWF0ZUVsZW1lbnQoJ2J1dHRvbicpOwogIGlucHV0RWxlbWVudC5wYXJlbnRFbGVtZW50LmFwcGVuZENoaWxkKGNhbmNlbCk7CiAgY2FuY2VsLnRleHRDb250ZW50ID0gJ0NhbmNlbCB1cGxvYWQnOwogIGNvbnN0IGNhbmNlbFByb21pc2UgPSBuZXcgUHJvbWlzZSgocmVzb2x2ZSkgPT4gewogICAgY2FuY2VsLm9uY2xpY2sgPSAoKSA9PiB7CiAgICAgIHJlc29sdmUobnVsbCk7CiAgICB9OwogIH0pOwoKICAvLyBXYWl0IGZvciB0aGUgdXNlciB0byBwaWNrIHRoZSBmaWxlcy4KICBjb25zdCBmaWxlcyA9IHlpZWxkIHsKICAgIHByb21pc2U6IFByb21pc2UucmFjZShbcGlja2VkUHJvbWlzZSwgY2FuY2VsUHJvbWlzZV0pLAogICAgcmVzcG9uc2U6IHsKICAgICAgYWN0aW9uOiAnc3RhcnRpbmcnLAogICAgfQogIH07CgogIGNhbmNlbC5yZW1vdmUoKTsKCiAgLy8gRGlzYWJsZSB0aGUgaW5wdXQgZWxlbWVudCBzaW5jZSBmdXJ0aGVyIHBpY2tzIGFyZSBub3QgYWxsb3dlZC4KICBpbnB1dEVsZW1lbnQuZGlzYWJsZWQgPSB0cnVlOwoKICBpZiAoIWZpbGVzKSB7CiAgICByZXR1cm4gewogICAgICByZXNwb25zZTogewogICAgICAgIGFjdGlvbjogJ2NvbXBsZXRlJywKICAgICAgfQogICAgfTsKICB9CgogIGZvciAoY29uc3QgZmlsZSBvZiBmaWxlcykgewogICAgY29uc3QgbGkgPSBkb2N1bWVudC5jcmVhdGVFbGVtZW50KCdsaScpOwogICAgbGkuYXBwZW5kKHNwYW4oZmlsZS5uYW1lLCB7Zm9udFdlaWdodDogJ2JvbGQnfSkpOwogICAgbGkuYXBwZW5kKHNwYW4oCiAgICAgICAgYCgke2ZpbGUudHlwZSB8fCAnbi9hJ30pIC0gJHtmaWxlLnNpemV9IGJ5dGVzLCBgICsKICAgICAgICBgbGFzdCBtb2RpZmllZDogJHsKICAgICAgICAgICAgZmlsZS5sYXN0TW9kaWZpZWREYXRlID8gZmlsZS5sYXN0TW9kaWZpZWREYXRlLnRvTG9jYWxlRGF0ZVN0cmluZygpIDoKICAgICAgICAgICAgICAgICAgICAgICAgICAgICAgICAgICAgJ24vYSd9IC0gYCkpOwogICAgY29uc3QgcGVyY2VudCA9IHNwYW4oJzAlIGRvbmUnKTsKICAgIGxpLmFwcGVuZENoaWxkKHBlcmNlbnQpOwoKICAgIG91dHB1dEVsZW1lbnQuYXBwZW5kQ2hpbGQobGkpOwoKICAgIGNvbnN0IGZpbGVEYXRhUHJvbWlzZSA9IG5ldyBQcm9taXNlKChyZXNvbHZlKSA9PiB7CiAgICAgIGNvbnN0IHJlYWRlciA9IG5ldyBGaWxlUmVhZGVyKCk7CiAgICAgIHJlYWRlci5vbmxvYWQgPSAoZSkgPT4gewogICAgICAgIHJlc29sdmUoZS50YXJnZXQucmVzdWx0KTsKICAgICAgfTsKICAgICAgcmVhZGVyLnJlYWRBc0FycmF5QnVmZmVyKGZpbGUpOwogICAgfSk7CiAgICAvLyBXYWl0IGZvciB0aGUgZGF0YSB0byBiZSByZWFkeS4KICAgIGxldCBmaWxlRGF0YSA9IHlpZWxkIHsKICAgICAgcHJvbWlzZTogZmlsZURhdGFQcm9taXNlLAogICAgICByZXNwb25zZTogewogICAgICAgIGFjdGlvbjogJ2NvbnRpbnVlJywKICAgICAgfQogICAgfTsKCiAgICAvLyBVc2UgYSBjaHVua2VkIHNlbmRpbmcgdG8gYXZvaWQgbWVzc2FnZSBzaXplIGxpbWl0cy4gU2VlIGIvNjIxMTU2NjAuCiAgICBsZXQgcG9zaXRpb24gPSAwOwogICAgd2hpbGUgKHBvc2l0aW9uIDwgZmlsZURhdGEuYnl0ZUxlbmd0aCkgewogICAgICBjb25zdCBsZW5ndGggPSBNYXRoLm1pbihmaWxlRGF0YS5ieXRlTGVuZ3RoIC0gcG9zaXRpb24sIE1BWF9QQVlMT0FEX1NJWkUpOwogICAgICBjb25zdCBjaHVuayA9IG5ldyBVaW50OEFycmF5KGZpbGVEYXRhLCBwb3NpdGlvbiwgbGVuZ3RoKTsKICAgICAgcG9zaXRpb24gKz0gbGVuZ3RoOwoKICAgICAgY29uc3QgYmFzZTY0ID0gYnRvYShTdHJpbmcuZnJvbUNoYXJDb2RlLmFwcGx5KG51bGwsIGNodW5rKSk7CiAgICAgIHlpZWxkIHsKICAgICAgICByZXNwb25zZTogewogICAgICAgICAgYWN0aW9uOiAnYXBwZW5kJywKICAgICAgICAgIGZpbGU6IGZpbGUubmFtZSwKICAgICAgICAgIGRhdGE6IGJhc2U2NCwKICAgICAgICB9LAogICAgICB9OwogICAgICBwZXJjZW50LnRleHRDb250ZW50ID0KICAgICAgICAgIGAke01hdGgucm91bmQoKHBvc2l0aW9uIC8gZmlsZURhdGEuYnl0ZUxlbmd0aCkgKiAxMDApfSUgZG9uZWA7CiAgICB9CiAgfQoKICAvLyBBbGwgZG9uZS4KICB5aWVsZCB7CiAgICByZXNwb25zZTogewogICAgICBhY3Rpb246ICdjb21wbGV0ZScsCiAgICB9CiAgfTsKfQoKc2NvcGUuZ29vZ2xlID0gc2NvcGUuZ29vZ2xlIHx8IHt9OwpzY29wZS5nb29nbGUuY29sYWIgPSBzY29wZS5nb29nbGUuY29sYWIgfHwge307CnNjb3BlLmdvb2dsZS5jb2xhYi5fZmlsZXMgPSB7CiAgX3VwbG9hZEZpbGVzLAogIF91cGxvYWRGaWxlc0NvbnRpbnVlLAp9Owp9KShzZWxmKTsK",
              "ok": true,
              "headers": [
                [
                  "content-type",
                  "application/javascript"
                ]
              ],
              "status": 200,
              "status_text": ""
            }
          },
          "base_uri": "https://localhost:8080/",
          "height": 78
        },
        "outputId": "6cfc3abf-03bf-4218-df8f-9bde0a2ff15a"
      },
      "source": [
        "\"\"\" 1/3 ※書き換える必要なし\n",
        "＜配布した画像をGoogle　Colabにアップロードする処理＞\n",
        "セルを実行したら、ファイル選択ができるようになります。\n",
        "'House_gray.png'を選択してください。\n",
        "Google Chrome以外のブラウザだと実行できない場合もあるので、注意してください。\n",
        "\"\"\"\n",
        "\n",
        "from google.colab import files #画像読み込み用の関数を使えるようにする\n",
        "uploaded = files.upload() #ファイルのアップロード"
      ],
      "execution_count": 1,
      "outputs": [
        {
          "output_type": "display_data",
          "data": {
            "text/html": [
              "\n",
              "     <input type=\"file\" id=\"files-5a575717-9cd3-4f9b-aaf7-58affba4444e\" name=\"files[]\" multiple disabled\n",
              "        style=\"border:none\" />\n",
              "     <output id=\"result-5a575717-9cd3-4f9b-aaf7-58affba4444e\">\n",
              "      Upload widget is only available when the cell has been executed in the\n",
              "      current browser session. Please rerun this cell to enable.\n",
              "      </output>\n",
              "      <script src=\"/nbextensions/google.colab/files.js\"></script> "
            ],
            "text/plain": [
              "<IPython.core.display.HTML object>"
            ]
          },
          "metadata": {
            "tags": []
          }
        },
        {
          "output_type": "stream",
          "text": [
            "Saving House_gray.png to House_gray.png\n"
          ],
          "name": "stdout"
        }
      ]
    },
    {
      "cell_type": "markdown",
      "metadata": {
        "id": "xghfkTzF0M9T",
        "colab_type": "text"
      },
      "source": [
        "以下のような文章が出力されたら、画像のアップロードが完了です。\n",
        "```\n",
        "House_gray.png(image/png) - 86309 bytes, last modified: 2020/?/? - 100% done\n",
        "Saving House_gray.png to House_gray.png\n",
        "```"
      ]
    },
    {
      "cell_type": "code",
      "metadata": {
        "id": "K9COmCk1tLeE",
        "colab_type": "code",
        "colab": {
          "base_uri": "https://localhost:8080/",
          "height": 307
        },
        "outputId": "4ac2d93c-02ea-4d27-b420-cc7ec763ba0c"
      },
      "source": [
        "\"\"\" 2/3　※書き換える必要なし\n",
        "＜画像を読み込む処理＞\n",
        "先ほどアップロードした画像ファイルを読み込みます。\n",
        "変数'gray_img'の中に、画像データが入っています（サイズは256×256）。\n",
        "\"\"\"\n",
        "\n",
        "import cv2 #画像処理の基本的な処理をまとめた関数群を使えるようにする\n",
        "img_file_name = \"House_gray.png\" #上のセルでアップロードした画像ファイルの名前\n",
        "#img_file_name = \"Lenna_gray.png\" #上のセルでアップロードした画像ファイルの名前\n",
        "gray_img = cv2.imread(img_file_name, cv2.IMREAD_GRAYSCALE) #画像の読み込み\n",
        "print(type(gray_img)) #→<class 'numpy.ndarray'>\n",
        "print(gray_img.shape) #→(256, 256)\n",
        "\n",
        "import numpy as np #配列を扱う関数を使えるようにする\n",
        "output_img = np.ones((256,256), np.uint8)*255 #出力用の画像を生成\n",
        "\n",
        "from google.colab.patches import cv2_imshow #画像を表示する関数を使えるようにする\n",
        "cv2_imshow(gray_img) #画像を表示する"
      ],
      "execution_count": 4,
      "outputs": [
        {
          "output_type": "stream",
          "text": [
            "<class 'numpy.ndarray'>\n",
            "(256, 256)\n"
          ],
          "name": "stdout"
        },
        {
          "output_type": "display_data",
          "data": {
            "image/png": "[encoded data removed]",
            "text/plain": [
              "<PIL.Image.Image image mode=L size=256x256 at 0x7F10FA42D898>"
            ]
          },
          "metadata": {
            "tags": []
          }
        }
      ]
    },
    {
      "cell_type": "markdown",
      "metadata": {
        "id": "9QMea5eV0gZn",
        "colab_type": "text"
      },
      "source": [
        "以下の文章と読み込んだ画像が出力されたら、画像の読み込みが無事にできています。\n",
        "\n",
        "```\n",
        "<class 'numpy.ndarray'>\n",
        "(256, 256)\n",
        "```\n",
        "\n",
        "これで諸々の準備ができました。  \n",
        "ここからは8近傍のラプラシアンマスクのプログラムを書いてみてください。  \n",
        "\n",
        "関数 ``` cv2_imshow(変数名) ``` は画像配列を表示する関数です。  \n",
        "この関数を使って画像を表示させてください。   \n",
        "\n",
        "※Google Colabの仕様上、時間が立つとアップロードした画像データやメモリのデータがリセットされます。  \n",
        "前のセルの実行から30分以上時間が空いてしまった場合は、1つ目のセルから順に実行し直してください。\n"
      ]
    },
    {
      "cell_type": "code",
      "metadata": {
        "id": "EYvT4pcMtT75",
        "colab_type": "code",
        "colab": {}
      },
      "source": [
        "\"\"\" 3/3　※各自でプログラムを作成してください。\n",
        "＜gray_imgにラプラシアンマスクを適応させる＞\n",
        "gray_imgとoutput_imgは256×256の２次元配列になっています。\n",
        "gray_imgの各画素にラプラシアンマスクを適用し、その結果をoutput_imgに格納してください。\n",
        "\"\"\"\n",
        "cv2_imshow(gray_img) #入力画像の表示\n",
        "\n",
        "\n",
        "\n",
        "\n",
        "cv2_imshow(output_img) #ラプラシアンマスク適用後の画像を表示"
      ],
      "execution_count": null,
      "outputs": []
    }
  ]
}