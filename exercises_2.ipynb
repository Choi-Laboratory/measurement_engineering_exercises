{
  "nbformat": 4,
  "nbformat_minor": 0,
  "metadata": {
    "colab": {
      "name": "exercises_2.ipynb",
      "provenance": [],
      "collapsed_sections": [],
      "authorship_tag": "ABX9TyO5YakrGqVNvmrCVWiSfSit"
    },
    "kernelspec": {
      "name": "python3",
      "display_name": "Python 3"
    }
  },
  "cells": [
    {
      "cell_type": "markdown",
      "metadata": {
        "id": "HtEDpWmXsHjx",
        "colab_type": "text"
      },
      "source": [
        "# 課題2: ラプラシアンマスク\n",
        "\n",
        "画像の輪郭を抽出する手法の一つに**ラプラシアンマスク**というものがあります。  \n",
        "着目画素の8近傍（あるいはそれ以上）の領域において、以下に示すような係数を掛けて足し合わせて、画素値を更新します。  \n",
        "\n",
        "| | | |\n",
        "| :---: | :---: | :---: |\n",
        "|  -1 |  -1 | -1 |\n",
        "|  -1 |  8  | -1 |\n",
        "|  -1 |  -1 | -1 |\n",
        "\n",
        "![](https://raw.githubusercontent.com/Choi-Laboratory/measurement_engineering_exercises/master/images/laplacian.jpg)\n",
        "\n",
        "例えば、次のような画素配列において、  \n",
        "\n",
        "|  |  |  |  \n",
        "| :---: | :---: | :---: |\n",
        "| 36 | 199 | 196 | \n",
        "| 129 | ↓<br>156 | 122 |\n",
        "| 199 | 223 | 64 |\n",
        "\n",
        "\n",
        "中心の画素(156)に8近傍のラプラシアンマスクを適用すると、  \n",
        "\n",
        "(新しい画素値) = 36 × (-1) + 199 × (-1) + 196 × (-1)   \n",
        "　　　　　　　+ 129 × (-1) + 156 × 8 + 122 × (-1)   \n",
        "　　　　　　　+ 199 × (-1) + 223 × (-1) + 64 × (-1)   \n",
        "　　　　　　　= **80**\n",
        "\n",
        "画素値は80になります。\n",
        "\n",
        "|  |  |  |  \n",
        "| :---: | :---: | :---: |\n",
        "| 36 | 199 | 196 | \n",
        "| 129 | **80** | 122 |\n",
        "| 199 | 223 | 64 |\n",
        "\n",
        "\n",
        "しかしながら、上のような配列の場合、中心以外の画素は配列の縁にあるので、8近傍の処理を施すことができません。  \n",
        "そこで、入力画像に対して、処理を行う前に画像配列の周囲を0(ゼロ)で埋める方法があります。  \n",
        "この手法を**ゼロパディング**と呼びます。  \n",
        "以下のような配列にゼロパディングを行うと、\n",
        "\n",
        "|  |  |  |  |\n",
        "| :---: | :---: | :---: | :---: |\n",
        "| A | B | C | D |\n",
        "| E | F | G | H |\n",
        "| I | J | K | L |\n",
        "| M | N | O | P |\n",
        "\n",
        "\n",
        "次のようになります。  \n",
        "\n",
        "|  |  |  |  |  |  |\n",
        "| :---: | :---: | :---: | :---: | :---: | :---: |\n",
        "| **0** | **0** | **0** | **0** | **0** | **0** |\n",
        "| **0** | A | B | C | D | **0** |\n",
        "| **0** | E | F | G | H | **0** |\n",
        "| **0** | I | J | K | L | **0** |\n",
        "| **0** | M | N | O | P | **0** |\n",
        "| **0** | **0** | **0** | **0** | **0** | **0** |\n",
        "\n",
        "今回の課題では、ゼロパディングの処理を行う必要はありませんが、知識として知っておいてください。  \n",
        "(余裕がある人は挑戦してみてください。)\n"
      ]
    },
    {
      "cell_type": "markdown",
      "metadata": {
        "id": "EXou4KVQighV",
        "colab_type": "text"
      },
      "source": [
        "### 課題の説明\n",
        "\"House_gray.png\"に8近傍のラプラシアンマスクを適用し、その出力結果とプログラムのソースコードを提出してください。  \n",
        "提出方法は、前回と同様で、出力画像とソースコードをWordに載せて提出してください。\n",
        "\n",
        "\n",
        "ラプラシアンマスクを適用した後の画素値が0~255の範囲を超えた場合、  \n",
        "0より小さいならば0、255より大きいならば255にしてください。\n",
        "\n",
        "前述しましたが、8近傍ラプラシアンマスクは、配列の縁にあたる部分の画素に対して、マスク処理することができません。  \n",
        "従って、縁の部分は画素値を0にして処理を進めてください。  \n",
        "ゼロパディング処理を施せる人は、挑戦してみてください。\n",
        "\n",
        "例として、\"Lenna_gray.png\"に対して、ラプラシアンマスクを施した結果を載せておきます。  \n",
        "\n",
        "\n",
        "![](https://raw.githubusercontent.com/Choi-Laboratory/measurement_engineering_exercises/master/images/Lenna_LaplacianMask_result.png)\n",
        "\n",
        "\n",
        "画像の輪郭部分がくっきりとしていることが、見て分かると思います。\n",
        "\n",
        "\n",
        "\n"
      ]
    },
    {
      "cell_type": "markdown",
      "metadata": {
        "id": "m17XD90wia-K",
        "colab_type": "text"
      },
      "source": [
        ""
      ]
    },
    {
      "cell_type": "code",
      "metadata": {
        "id": "XT3Voemjs19i",
        "colab_type": "code",
        "colab": {}
      },
      "source": [
        "\"\"\" 1/3 ※書き換える必要なし\n",
        "＜配布した画像をGoogle　Colabにアップロードする処理＞\n",
        "セルを実行したら、ファイル選択ができるようになります。\n",
        "'House_gray.png'を選択してください。\n",
        "\"\"\"\n",
        "\n",
        "from google.colab import files #画像読み込み用の関数を使えるようにする\n",
        "uploaded = files.upload() #ファイルのアップロード"
      ],
      "execution_count": null,
      "outputs": []
    },
    {
      "cell_type": "markdown",
      "metadata": {
        "id": "xghfkTzF0M9T",
        "colab_type": "text"
      },
      "source": [
        "以下のような文章が出力されたら、画像のアップロードが完了です。\n",
        "```\n",
        "House_gray.png(image/png) - 86309 bytes, last modified: 2020/?/? - 100% done\n",
        "Saving House_gray.png to House_gray.png\n",
        "```"
      ]
    },
    {
      "cell_type": "code",
      "metadata": {
        "id": "K9COmCk1tLeE",
        "colab_type": "code",
        "colab": {}
      },
      "source": [
        "\"\"\" 2/3　※書き換える必要なし\n",
        "＜画像を読み込む処理＞\n",
        "先ほどアップロードした画像ファイルを読み込みます。\n",
        "変数'gray_img'の中に、画像データが入っています（サイズは256×256）。\n",
        "\"\"\"\n",
        "\n",
        "import cv2 #画像処理の基本的な処理をまとめた関数群を使えるようにする\n",
        "img_file_name = \"House_gray.png\" #上のセルでアップロードした画像ファイルの名前\n",
        "#img_file_name = \"Lenna_gray.png\" #上のセルでアップロードした画像ファイルの名前\n",
        "gray_img = cv2.imread(img_file_name, cv2.IMREAD_GRAYSCALE) #画像の読み込み\n",
        "print(type(gray_img)) #→<class 'numpy.ndarray'>\n",
        "print(gray_img.shape) #→(256, 256)\n",
        "\n",
        "import numpy as np #配列を扱う関数を使えるようにする\n",
        "output_img = np.ones((256,256), np.uint8)*255 #出力用の画像を生成\n",
        "\n",
        "cv2_imshow(gray_img) #画像を表示する"
      ],
      "execution_count": null,
      "outputs": []
    },
    {
      "cell_type": "markdown",
      "metadata": {
        "id": "9QMea5eV0gZn",
        "colab_type": "text"
      },
      "source": [
        "以下の文章と読み込んだ画像が出力されたら、画像の読み込みが無事にできています。\n",
        "\n",
        "```\n",
        "<class 'numpy.ndarray'>\n",
        "(256, 256)\n",
        "```\n",
        "\n",
        "これで諸々の準備ができました。  \n",
        "ここからは8近傍のラプラシアンマスクのプログラムを書いてみてください。  \n",
        "\n",
        "関数 ``` cv2_imshow(変数名) ``` は画像配列を表示する関数です。  \n",
        "この関数を使って画像を表示させてください。   \n",
        "\n",
        "※Google Colabの仕様上、時間が立つとアップロードした画像データやメモリのデータがリセットされます。  \n",
        "前のセルの実行から30分以上時間が空いてしまった場合は、1つ目のセルから順に実行し直してください。\n"
      ]
    },
    {
      "cell_type": "code",
      "metadata": {
        "id": "EYvT4pcMtT75",
        "colab_type": "code",
        "colab": {}
      },
      "source": [
        "\"\"\" 3/3　※各自でプログラムを作成してください。\n",
        "＜gray_imgにラプラシアンマスクを適応させる＞\n",
        "gray_imgとoutput_imgは256×256の２次元配列になっています。\n",
        "gray_imgの各画素にラプラシアンマスクを適用し、その結果をoutput_imgに格納してください。\n",
        "\"\"\"\n",
        "cv2_imshow(gray_img) #入力画像の表示\n",
        "\n",
        "\n",
        "\n",
        "\n",
        "cv2_imshow(output_img) #ラプラシアンマスク適用後の画像を表示"
      ],
      "execution_count": null,
      "outputs": []
    }
  ]
}